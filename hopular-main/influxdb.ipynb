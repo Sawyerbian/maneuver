{
 "cells": [
  {
   "cell_type": "code",
   "execution_count": null,
   "metadata": {},
   "outputs": [],
   "source": [
    "client = InfluxDBClient(host='1', port=8086)"
   ]
  }
 ],
 "metadata": {
  "interpreter": {
   "hash": "69bd4d450036567078e211df7be9de9836c1d6bda5ed195c090e073eb5134b34"
  },
  "kernelspec": {
   "display_name": "Python 3.7.13",
   "language": "python",
   "name": "python3"
  },
  "language_info": {
   "name": "python",
   "version": "3.7.13"
  },
  "orig_nbformat": 4
 },
 "nbformat": 4,
 "nbformat_minor": 2
}
